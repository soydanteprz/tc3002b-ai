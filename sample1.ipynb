{
 "cells": [
  {
   "cell_type": "markdown",
   "id": "8a77807f92f26ee",
   "metadata": {},
   "source": [
    "# This is a sample Jupyter Notebook\n",
    "\n",
    "Below is an example of a code cell.\n",
    "Put your cursor into the cell and press Shift+Enter to execute it and select the next one, or click 'Run Cell' button.\n",
    "\n",
    "Press Double Shift to search everywhere for classes, files, tool windows, actions, and settings.\n",
    "\n",
    "To learn more about Jupyter Notebooks in PyCharm, see [help](https://www.jetbrains.com/help/pycharm/ipython-notebook-support.html).\n",
    "For an overview of PyCharm, go to Help -> Learn IDE features or refer to [our documentation](https://www.jetbrains.com/help/pycharm/getting-started.html)."
   ]
  },
  {
   "cell_type": "code",
   "id": "fbc121e30a2defb3",
   "metadata": {
    "ExecuteTime": {
     "end_time": "2025-06-03T15:59:56.262678Z",
     "start_time": "2025-06-03T15:59:56.260218Z"
    }
   },
   "source": [
    "print(\"Hello World!\")\n"
   ],
   "outputs": [
    {
     "name": "stdout",
     "output_type": "stream",
     "text": [
      "Hello World!\n"
     ]
    }
   ],
   "execution_count": 1
  },
  {
   "cell_type": "code",
   "id": "d7512b98",
   "metadata": {
    "ExecuteTime": {
     "end_time": "2025-06-03T15:59:56.653387Z",
     "start_time": "2025-06-03T15:59:56.344578Z"
    }
   },
   "source": [
    "import pandas as pd\n",
    "from pathlib import Path\n",
    "\n",
    "# Ruta base\n",
    "BASE_PATH = Path(\"data/splits\")\n",
    "\n",
    "# Cargar CSV\n",
    "df = pd.read_csv(BASE_PATH / \"train.csv\")\n",
    "\n",
    "# Mostrar primeras filas\n",
    "df.head()"
   ],
   "outputs": [
    {
     "data": {
      "text/plain": [
       "       pair_id        folder_name case_id   case_orig          file1  \\\n",
       "0  pair_000857  c57a973e_fa484fdd     p08   problem-8  c57a973e.java   \n",
       "1  pair_000806  44428e63_c850e422     p18  problem-18  44428e63.java   \n",
       "2  pair_001063  2ff0355e_83935617     p09   problem-9  2ff0355e.java   \n",
       "3  pair_001031  0017d438_9852706b     p09   problem-9  0017d438.java   \n",
       "4  pair_000899  bdfe8110_c57a973e     p08   problem-8  bdfe8110.java   \n",
       "\n",
       "           file2  label plagiarism_level source_dataset  \\\n",
       "0  fa484fdd.java      1    contest_level        conplag   \n",
       "1  c850e422.java      0             none        conplag   \n",
       "2  83935617.java      0             none        conplag   \n",
       "3  9852706b.java      1    contest_level        conplag   \n",
       "4  c57a973e.java      1    contest_level        conplag   \n",
       "\n",
       "           comparison_type  \n",
       "0  contest_submission_pair  \n",
       "1  contest_submission_pair  \n",
       "2  contest_submission_pair  \n",
       "3  contest_submission_pair  \n",
       "4  contest_submission_pair  "
      ],
      "text/html": [
       "<div>\n",
       "<style scoped>\n",
       "    .dataframe tbody tr th:only-of-type {\n",
       "        vertical-align: middle;\n",
       "    }\n",
       "\n",
       "    .dataframe tbody tr th {\n",
       "        vertical-align: top;\n",
       "    }\n",
       "\n",
       "    .dataframe thead th {\n",
       "        text-align: right;\n",
       "    }\n",
       "</style>\n",
       "<table border=\"1\" class=\"dataframe\">\n",
       "  <thead>\n",
       "    <tr style=\"text-align: right;\">\n",
       "      <th></th>\n",
       "      <th>pair_id</th>\n",
       "      <th>folder_name</th>\n",
       "      <th>case_id</th>\n",
       "      <th>case_orig</th>\n",
       "      <th>file1</th>\n",
       "      <th>file2</th>\n",
       "      <th>label</th>\n",
       "      <th>plagiarism_level</th>\n",
       "      <th>source_dataset</th>\n",
       "      <th>comparison_type</th>\n",
       "    </tr>\n",
       "  </thead>\n",
       "  <tbody>\n",
       "    <tr>\n",
       "      <th>0</th>\n",
       "      <td>pair_000857</td>\n",
       "      <td>c57a973e_fa484fdd</td>\n",
       "      <td>p08</td>\n",
       "      <td>problem-8</td>\n",
       "      <td>c57a973e.java</td>\n",
       "      <td>fa484fdd.java</td>\n",
       "      <td>1</td>\n",
       "      <td>contest_level</td>\n",
       "      <td>conplag</td>\n",
       "      <td>contest_submission_pair</td>\n",
       "    </tr>\n",
       "    <tr>\n",
       "      <th>1</th>\n",
       "      <td>pair_000806</td>\n",
       "      <td>44428e63_c850e422</td>\n",
       "      <td>p18</td>\n",
       "      <td>problem-18</td>\n",
       "      <td>44428e63.java</td>\n",
       "      <td>c850e422.java</td>\n",
       "      <td>0</td>\n",
       "      <td>none</td>\n",
       "      <td>conplag</td>\n",
       "      <td>contest_submission_pair</td>\n",
       "    </tr>\n",
       "    <tr>\n",
       "      <th>2</th>\n",
       "      <td>pair_001063</td>\n",
       "      <td>2ff0355e_83935617</td>\n",
       "      <td>p09</td>\n",
       "      <td>problem-9</td>\n",
       "      <td>2ff0355e.java</td>\n",
       "      <td>83935617.java</td>\n",
       "      <td>0</td>\n",
       "      <td>none</td>\n",
       "      <td>conplag</td>\n",
       "      <td>contest_submission_pair</td>\n",
       "    </tr>\n",
       "    <tr>\n",
       "      <th>3</th>\n",
       "      <td>pair_001031</td>\n",
       "      <td>0017d438_9852706b</td>\n",
       "      <td>p09</td>\n",
       "      <td>problem-9</td>\n",
       "      <td>0017d438.java</td>\n",
       "      <td>9852706b.java</td>\n",
       "      <td>1</td>\n",
       "      <td>contest_level</td>\n",
       "      <td>conplag</td>\n",
       "      <td>contest_submission_pair</td>\n",
       "    </tr>\n",
       "    <tr>\n",
       "      <th>4</th>\n",
       "      <td>pair_000899</td>\n",
       "      <td>bdfe8110_c57a973e</td>\n",
       "      <td>p08</td>\n",
       "      <td>problem-8</td>\n",
       "      <td>bdfe8110.java</td>\n",
       "      <td>c57a973e.java</td>\n",
       "      <td>1</td>\n",
       "      <td>contest_level</td>\n",
       "      <td>conplag</td>\n",
       "      <td>contest_submission_pair</td>\n",
       "    </tr>\n",
       "  </tbody>\n",
       "</table>\n",
       "</div>"
      ]
     },
     "execution_count": 2,
     "metadata": {},
     "output_type": "execute_result"
    }
   ],
   "execution_count": 2
  },
  {
   "cell_type": "code",
   "id": "221bf430",
   "metadata": {
    "ExecuteTime": {
     "end_time": "2025-06-03T15:59:56.811374Z",
     "start_time": "2025-06-03T15:59:56.687164Z"
    }
   },
   "source": [
    "# Función para leer código\n",
    "def read_code(folder_name, filename):\n",
    "    path = BASE_PATH / \"train\" / folder_name / filename\n",
    "    with open(path, 'r', encoding='utf-8', errors='ignore') as f:\n",
    "        return f.read()\n",
    "\n",
    "# Agregar columnas con el texto fuente\n",
    "df['code1'] = df.apply(lambda row: read_code(row['folder_name'], row['file1']), axis=1)\n",
    "df['code2'] = df.apply(lambda row: read_code(row['folder_name'], row['file2']), axis=1)\n",
    "\n",
    "df[['code1', 'code2']].head()\n"
   ],
   "outputs": [
    {
     "data": {
      "text/plain": [
       "                                               code1  \\\n",
       "0  import java.io.BufferedReader;\\nimport java.io...   \n",
       "1  import java.util.*;\\nimport java.io.*;\\n\\npubl...   \n",
       "2  import java.io.*;\\nimport java.util.*;\\n\\npubl...   \n",
       "3  import java.io.BufferedReader;\\nimport java.io...   \n",
       "4  import java.io.BufferedReader;\\nimport java.io...   \n",
       "\n",
       "                                               code2  \n",
       "0  import java.io.IOException;\\nimport java.io.In...  \n",
       "1  import java.io.*;\\nimport java.util.*;\\n\\npubl...  \n",
       "2  import java.util.*;\\nimport java.lang.*;\\nimpo...  \n",
       "3  import java.io.BufferedReader;\\nimport java.io...  \n",
       "4  import java.io.BufferedReader;\\nimport java.io...  "
      ],
      "text/html": [
       "<div>\n",
       "<style scoped>\n",
       "    .dataframe tbody tr th:only-of-type {\n",
       "        vertical-align: middle;\n",
       "    }\n",
       "\n",
       "    .dataframe tbody tr th {\n",
       "        vertical-align: top;\n",
       "    }\n",
       "\n",
       "    .dataframe thead th {\n",
       "        text-align: right;\n",
       "    }\n",
       "</style>\n",
       "<table border=\"1\" class=\"dataframe\">\n",
       "  <thead>\n",
       "    <tr style=\"text-align: right;\">\n",
       "      <th></th>\n",
       "      <th>code1</th>\n",
       "      <th>code2</th>\n",
       "    </tr>\n",
       "  </thead>\n",
       "  <tbody>\n",
       "    <tr>\n",
       "      <th>0</th>\n",
       "      <td>import java.io.BufferedReader;\\nimport java.io...</td>\n",
       "      <td>import java.io.IOException;\\nimport java.io.In...</td>\n",
       "    </tr>\n",
       "    <tr>\n",
       "      <th>1</th>\n",
       "      <td>import java.util.*;\\nimport java.io.*;\\n\\npubl...</td>\n",
       "      <td>import java.io.*;\\nimport java.util.*;\\n\\npubl...</td>\n",
       "    </tr>\n",
       "    <tr>\n",
       "      <th>2</th>\n",
       "      <td>import java.io.*;\\nimport java.util.*;\\n\\npubl...</td>\n",
       "      <td>import java.util.*;\\nimport java.lang.*;\\nimpo...</td>\n",
       "    </tr>\n",
       "    <tr>\n",
       "      <th>3</th>\n",
       "      <td>import java.io.BufferedReader;\\nimport java.io...</td>\n",
       "      <td>import java.io.BufferedReader;\\nimport java.io...</td>\n",
       "    </tr>\n",
       "    <tr>\n",
       "      <th>4</th>\n",
       "      <td>import java.io.BufferedReader;\\nimport java.io...</td>\n",
       "      <td>import java.io.BufferedReader;\\nimport java.io...</td>\n",
       "    </tr>\n",
       "  </tbody>\n",
       "</table>\n",
       "</div>"
      ]
     },
     "execution_count": 3,
     "metadata": {},
     "output_type": "execute_result"
    }
   ],
   "execution_count": 3
  },
  {
   "cell_type": "code",
   "id": "b9d891b9",
   "metadata": {
    "ExecuteTime": {
     "end_time": "2025-06-03T15:59:57.082860Z",
     "start_time": "2025-06-03T15:59:56.843952Z"
    }
   },
   "source": [
    "import re\n",
    "import pandas as pd\n",
    "\n",
    "def preprocess(code):\n",
    "    # Eliminar comentarios y normalizar espacios\n",
    "    code = re.sub(r\"//.*|/\\*[\\s\\S]*?\\*/\", \"\", code)\n",
    "    code = re.sub(r\"\\s+\", \" \", code)\n",
    "    return code.strip()\n",
    "\n",
    "# Tokenizador simple basado en Java\n",
    "TOKEN_SPECIFICATION = [\n",
    "    ('KEYWORD',     r'\\b(?:abstract|assert|boolean|break|byte|case|catch|char|class|const|continue|default|do|double|else|enum|extends|final|finally|float|for|goto|if|implements|import|instanceof|int|interface|long|native|new|null|package|private|protected|public|return|short|static|strictfp|super|switch|synchronized|this|throw|throws|transient|try|void|volatile|while|true|false)\\b'),\n",
    "    ('IDENTIFIER',  r'\\b[a-zA-Z_][a-zA-Z0-9_]*\\b'),\n",
    "    ('NUMBER',      r'\\b\\d+(\\.\\d+)?\\b'),\n",
    "    ('STRING',      r'\"(\\\\.|[^\"\\\\])*\"'),\n",
    "    ('CHAR',        r\"'(\\\\.|[^'\\\\])'\"),\n",
    "    ('OPERATOR',    r'==|!=|<=|>=|\\+\\+|--|&&|\\|\\||[-+*/%<>=!&|^~]'),\n",
    "    ('SEPARATOR',   r'[()\\[\\]{};,\\.]'),\n",
    "]\n",
    "\n",
    "token_regex = '|'.join(f'(?P<{name}>{pattern})' for name, pattern in TOKEN_SPECIFICATION)\n",
    "compiled_re = re.compile(token_regex)\n",
    "\n",
    "def tokenize(code):\n",
    "    tokens = []\n",
    "    for match in compiled_re.finditer(code):\n",
    "        tokens.append(match.group())\n",
    "    return tokens\n",
    "\n",
    "# Aplicar a DataFrame\n",
    "def preprocess_and_tokenize(code):\n",
    "    code = preprocess(code)\n",
    "    tokens = tokenize(code)\n",
    "    return tokens  # o ' '.join(tokens) si deseas una cadena en lugar de lista\n",
    "\n",
    "# Suponiendo que df ya está cargado\n",
    "df['tokens1'] = df['code1'].apply(preprocess_and_tokenize)\n",
    "df['tokens2'] = df['code2'].apply(preprocess_and_tokenize)\n"
   ],
   "outputs": [],
   "execution_count": 4
  },
  {
   "cell_type": "code",
   "id": "8b441ee2",
   "metadata": {
    "ExecuteTime": {
     "end_time": "2025-06-03T15:59:57.114755Z",
     "start_time": "2025-06-03T15:59:57.107322Z"
    }
   },
   "source": [
    "# Convertir listas de tokens en cadenas de texto\n",
    "df['tokens1_str'] = df['tokens1'].apply(lambda tokens: ' '.join(tokens))\n",
    "df['tokens2_str'] = df['tokens2'].apply(lambda tokens: ' '.join(tokens))\n"
   ],
   "outputs": [],
   "execution_count": 5
  },
  {
   "cell_type": "code",
   "id": "55f554d8",
   "metadata": {
    "ExecuteTime": {
     "end_time": "2025-06-03T15:59:57.777565Z",
     "start_time": "2025-06-03T15:59:57.126603Z"
    }
   },
   "source": [
    "from sklearn.feature_extraction.text import TfidfVectorizer\n",
    "from sklearn.metrics.pairwise import cosine_similarity\n",
    "\n",
    "# Unir textos ya tokenizados\n",
    "all_texts = df['tokens1_str'].tolist() + df['tokens2_str'].tolist()\n",
    "\n",
    "# TF-IDF con tokens, respetando mayúsculas y minúsculas\n",
    "vectorizer = TfidfVectorizer(token_pattern=r'\\b\\w+\\b', lowercase=False)\n",
    "tfidf_matrix = vectorizer.fit_transform(all_texts)\n",
    "\n",
    "n = len(df)\n",
    "tfidf1 = tfidf_matrix[:n]\n",
    "tfidf2 = tfidf_matrix[n:]\n",
    "\n",
    "# Similitud del coseno entre cada par\n",
    "similarities = cosine_similarity(tfidf1, tfidf2).diagonal()\n",
    "df['similarity'] = similarities\n",
    "\n",
    "df[['similarity']]\n"
   ],
   "outputs": [
    {
     "data": {
      "text/plain": [
       "     similarity\n",
       "0      0.272003\n",
       "1      0.154999\n",
       "2      0.215748\n",
       "3      0.388949\n",
       "4      0.878248\n",
       "..          ...\n",
       "952    0.978233\n",
       "953    0.751777\n",
       "954    0.512311\n",
       "955    0.389717\n",
       "956    0.421090\n",
       "\n",
       "[957 rows x 1 columns]"
      ],
      "text/html": [
       "<div>\n",
       "<style scoped>\n",
       "    .dataframe tbody tr th:only-of-type {\n",
       "        vertical-align: middle;\n",
       "    }\n",
       "\n",
       "    .dataframe tbody tr th {\n",
       "        vertical-align: top;\n",
       "    }\n",
       "\n",
       "    .dataframe thead th {\n",
       "        text-align: right;\n",
       "    }\n",
       "</style>\n",
       "<table border=\"1\" class=\"dataframe\">\n",
       "  <thead>\n",
       "    <tr style=\"text-align: right;\">\n",
       "      <th></th>\n",
       "      <th>similarity</th>\n",
       "    </tr>\n",
       "  </thead>\n",
       "  <tbody>\n",
       "    <tr>\n",
       "      <th>0</th>\n",
       "      <td>0.272003</td>\n",
       "    </tr>\n",
       "    <tr>\n",
       "      <th>1</th>\n",
       "      <td>0.154999</td>\n",
       "    </tr>\n",
       "    <tr>\n",
       "      <th>2</th>\n",
       "      <td>0.215748</td>\n",
       "    </tr>\n",
       "    <tr>\n",
       "      <th>3</th>\n",
       "      <td>0.388949</td>\n",
       "    </tr>\n",
       "    <tr>\n",
       "      <th>4</th>\n",
       "      <td>0.878248</td>\n",
       "    </tr>\n",
       "    <tr>\n",
       "      <th>...</th>\n",
       "      <td>...</td>\n",
       "    </tr>\n",
       "    <tr>\n",
       "      <th>952</th>\n",
       "      <td>0.978233</td>\n",
       "    </tr>\n",
       "    <tr>\n",
       "      <th>953</th>\n",
       "      <td>0.751777</td>\n",
       "    </tr>\n",
       "    <tr>\n",
       "      <th>954</th>\n",
       "      <td>0.512311</td>\n",
       "    </tr>\n",
       "    <tr>\n",
       "      <th>955</th>\n",
       "      <td>0.389717</td>\n",
       "    </tr>\n",
       "    <tr>\n",
       "      <th>956</th>\n",
       "      <td>0.421090</td>\n",
       "    </tr>\n",
       "  </tbody>\n",
       "</table>\n",
       "<p>957 rows × 1 columns</p>\n",
       "</div>"
      ]
     },
     "execution_count": 6,
     "metadata": {},
     "output_type": "execute_result"
    }
   ],
   "execution_count": 6
  },
  {
   "cell_type": "code",
   "id": "83db41b3",
   "metadata": {
    "ExecuteTime": {
     "end_time": "2025-06-03T15:59:57.807954Z",
     "start_time": "2025-06-03T15:59:57.801735Z"
    }
   },
   "source": [
    "\n",
    "from sklearn.metrics import classification_report\n",
    "\n",
    "# Clasificación simple por umbral\n",
    "threshold = 0.8\n",
    "df['predicted'] = (df['similarity'] > threshold).astype(int)\n",
    "\n",
    "# Evaluación\n",
    "print(classification_report(df['label'], df['predicted']))\n"
   ],
   "outputs": [
    {
     "name": "stdout",
     "output_type": "stream",
     "text": [
      "              precision    recall  f1-score   support\n",
      "\n",
      "           0       0.65      0.96      0.77       534\n",
      "           1       0.87      0.34      0.48       423\n",
      "\n",
      "    accuracy                           0.68       957\n",
      "   macro avg       0.76      0.65      0.63       957\n",
      "weighted avg       0.74      0.68      0.64       957\n",
      "\n"
     ]
    }
   ],
   "execution_count": 7
  }
 ],
 "metadata": {
  "kernelspec": {
   "display_name": "Python 3",
   "language": "python",
   "name": "python3"
  },
  "language_info": {
   "codemirror_mode": {
    "name": "ipython",
    "version": 3
   },
   "file_extension": ".py",
   "mimetype": "text/x-python",
   "name": "python",
   "nbconvert_exporter": "python",
   "pygments_lexer": "ipython3",
   "version": "3.13.3"
  }
 },
 "nbformat": 4,
 "nbformat_minor": 5
}
